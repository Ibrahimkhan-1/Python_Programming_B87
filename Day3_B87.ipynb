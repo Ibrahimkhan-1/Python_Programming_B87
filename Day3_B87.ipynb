{
 "cells": [
  {
   "cell_type": "code",
   "execution_count": null,
   "id": "f97e0b5f",
   "metadata": {},
   "outputs": [],
   "source": [
    "continuing with String datatype"
   ]
  },
  {
   "cell_type": "code",
   "execution_count": 9,
   "id": "d5d35fb0",
   "metadata": {},
   "outputs": [],
   "source": [
    "firstname = 'ibrahim'\n",
    "lastname = 'khan'"
   ]
  },
  {
   "cell_type": "code",
   "execution_count": null,
   "id": "12f75f4f",
   "metadata": {},
   "outputs": [],
   "source": []
  },
  {
   "cell_type": "code",
   "execution_count": null,
   "id": "c7e54217",
   "metadata": {},
   "outputs": [],
   "source": [
    "\"Intro to f string\""
   ]
  },
  {
   "cell_type": "code",
   "execution_count": null,
   "id": "1f0ea942",
   "metadata": {},
   "outputs": [],
   "source": [
    "Synt: f\" custom message{placeholder1}{placeholder2}------{Placeholder--n}"
   ]
  },
  {
   "cell_type": "code",
   "execution_count": 10,
   "id": "5a3f99e8",
   "metadata": {},
   "outputs": [],
   "source": [
    "fullname = f\"{firstname} {lastname}\""
   ]
  },
  {
   "cell_type": "code",
   "execution_count": 11,
   "id": "ab703a5b",
   "metadata": {},
   "outputs": [
    {
     "name": "stdout",
     "output_type": "stream",
     "text": [
      "ibrahim khan\n"
     ]
    }
   ],
   "source": [
    "print(fullname)"
   ]
  },
  {
   "cell_type": "code",
   "execution_count": 13,
   "id": "363cc624",
   "metadata": {},
   "outputs": [
    {
     "name": "stdout",
     "output_type": "stream",
     "text": [
      "Ibrahim Khan\n"
     ]
    }
   ],
   "source": [
    "print(fullname.title())"
   ]
  },
  {
   "cell_type": "code",
   "execution_count": 14,
   "id": "6fb866d7",
   "metadata": {},
   "outputs": [
    {
     "data": {
      "text/plain": [
       "str"
      ]
     },
     "execution_count": 14,
     "metadata": {},
     "output_type": "execute_result"
    }
   ],
   "source": [
    "type(fullname)"
   ]
  },
  {
   "cell_type": "code",
   "execution_count": 15,
   "id": "f5e57225",
   "metadata": {},
   "outputs": [
    {
     "data": {
      "text/plain": [
       "str"
      ]
     },
     "execution_count": 15,
     "metadata": {},
     "output_type": "execute_result"
    }
   ],
   "source": [
    "type(firstname)"
   ]
  },
  {
   "cell_type": "code",
   "execution_count": 18,
   "id": "f386c529",
   "metadata": {},
   "outputs": [
    {
     "name": "stdout",
     "output_type": "stream",
     "text": [
      "keep up the good work ibrahim khan\n"
     ]
    }
   ],
   "source": [
    "message = f\"keep up the good work {fullname}\"\n",
    "print(message)"
   ]
  },
  {
   "cell_type": "code",
   "execution_count": 20,
   "id": "5adc8615",
   "metadata": {},
   "outputs": [
    {
     "name": "stdout",
     "output_type": "stream",
     "text": [
      "Keep Up The Good Work Ibrahim Khan\n"
     ]
    }
   ],
   "source": [
    "print(message.title())"
   ]
  },
  {
   "cell_type": "code",
   "execution_count": null,
   "id": "812cb904",
   "metadata": {},
   "outputs": [],
   "source": []
  },
  {
   "cell_type": "code",
   "execution_count": null,
   "id": "c8ec9787",
   "metadata": {},
   "outputs": [],
   "source": [
    "# Adding white space to string"
   ]
  },
  {
   "cell_type": "code",
   "execution_count": 22,
   "id": "5151ac67",
   "metadata": {
    "scrolled": true
   },
   "outputs": [
    {
     "name": "stdout",
     "output_type": "stream",
     "text": [
      "favourite_prog_lang:pythonjavac++swiftreactpascal\n"
     ]
    }
   ],
   "source": [
    "print(\"favourite_prog_lang:pythonjavac++swiftreactpascal\")"
   ]
  },
  {
   "cell_type": "code",
   "execution_count": 23,
   "id": "43611f37",
   "metadata": {},
   "outputs": [
    {
     "name": "stdout",
     "output_type": "stream",
     "text": [
      "favourite_prog_lang:\n",
      "python\n",
      "java\n",
      "c++\n",
      "swift\n",
      "react\n",
      "pascal\n"
     ]
    }
   ],
   "source": [
    "print(\"favourite_prog_lang:\\npython\\njava\\nc++\\nswift\\nreact\\npascal\")   # \\n is new line delimiter"
   ]
  },
  {
   "cell_type": "code",
   "execution_count": 24,
   "id": "dc0cff91",
   "metadata": {},
   "outputs": [
    {
     "name": "stdout",
     "output_type": "stream",
     "text": [
      "favourite_prog_lang:\n",
      "\tpython\n",
      "\tjava\n",
      "\tc++\n",
      "\tswift\n",
      "\treact\n",
      "\tpascal\n"
     ]
    }
   ],
   "source": [
    "print(\"favourite_prog_lang:\\n\\tpython\\n\\tjava\\n\\tc++\\n\\tswift\\n\\treact\\n\\tpascal\")   # \\t is new line delimiter"
   ]
  },
  {
   "cell_type": "code",
   "execution_count": null,
   "id": "f36f4290",
   "metadata": {},
   "outputs": [],
   "source": [
    "Removing white space from the strings:"
   ]
  },
  {
   "cell_type": "code",
   "execution_count": 25,
   "id": "e2a5406b",
   "metadata": {},
   "outputs": [],
   "source": [
    "name = 'python'"
   ]
  },
  {
   "cell_type": "code",
   "execution_count": 26,
   "id": "410906bb",
   "metadata": {},
   "outputs": [
    {
     "name": "stdout",
     "output_type": "stream",
     "text": [
      "python\n"
     ]
    }
   ],
   "source": [
    "print(name)   # no gap"
   ]
  },
  {
   "cell_type": "code",
   "execution_count": 27,
   "id": "a45ba856",
   "metadata": {},
   "outputs": [
    {
     "name": "stdout",
     "output_type": "stream",
     "text": [
      " python\n"
     ]
    }
   ],
   "source": [
    "name1 = ' python'   # gap on Left\n",
    "print(name1)"
   ]
  },
  {
   "cell_type": "code",
   "execution_count": 28,
   "id": "c57f7caf",
   "metadata": {},
   "outputs": [
    {
     "name": "stdout",
     "output_type": "stream",
     "text": [
      "python \n"
     ]
    }
   ],
   "source": [
    "name2 = 'python '  #gap on right\n",
    "print(name2)"
   ]
  },
  {
   "cell_type": "code",
   "execution_count": null,
   "id": "c4f63f10",
   "metadata": {},
   "outputs": [],
   "source": [
    "**strip metod**"
   ]
  },
  {
   "cell_type": "code",
   "execution_count": null,
   "id": "54a2c8f2",
   "metadata": {},
   "outputs": [],
   "source": [
    "we will use the strip method to eliminate the right and left gaps"
   ]
  },
  {
   "cell_type": "code",
   "execution_count": 30,
   "id": "36ae2834",
   "metadata": {},
   "outputs": [
    {
     "data": {
      "text/plain": [
       "'python'"
      ]
     },
     "execution_count": 30,
     "metadata": {},
     "output_type": "execute_result"
    }
   ],
   "source": [
    "name1.strip()"
   ]
  },
  {
   "cell_type": "code",
   "execution_count": 31,
   "id": "a576e3b4",
   "metadata": {},
   "outputs": [
    {
     "data": {
      "text/plain": [
       "'python'"
      ]
     },
     "execution_count": 31,
     "metadata": {},
     "output_type": "execute_result"
    }
   ],
   "source": [
    "name2.strip()"
   ]
  },
  {
   "cell_type": "code",
   "execution_count": null,
   "id": "4921aae0",
   "metadata": {},
   "outputs": [],
   "source": []
  }
 ],
 "metadata": {
  "kernelspec": {
   "display_name": "Python 3 (ipykernel)",
   "language": "python",
   "name": "python3"
  },
  "language_info": {
   "codemirror_mode": {
    "name": "ipython",
    "version": 3
   },
   "file_extension": ".py",
   "mimetype": "text/x-python",
   "name": "python",
   "nbconvert_exporter": "python",
   "pygments_lexer": "ipython3",
   "version": "3.9.12"
  }
 },
 "nbformat": 4,
 "nbformat_minor": 5
}
