{
 "cells": [
  {
   "cell_type": "code",
   "execution_count": null,
   "id": "591ef880",
   "metadata": {},
   "outputs": [],
   "source": [
    "# List Datatype"
   ]
  },
  {
   "cell_type": "code",
   "execution_count": 1,
   "id": "bf8b744e",
   "metadata": {},
   "outputs": [],
   "source": [
    "students = ['Ibrahim','saima','wasim','arshan','sameer','afroz']   #indexation (0,1,2,3,4,5)"
   ]
  },
  {
   "cell_type": "code",
   "execution_count": 2,
   "id": "fa7f86b7",
   "metadata": {},
   "outputs": [
    {
     "name": "stdout",
     "output_type": "stream",
     "text": [
      "['Ibrahim', 'saima', 'wasim', 'arshan', 'sameer', 'afroz']\n"
     ]
    }
   ],
   "source": [
    "print(students)"
   ]
  },
  {
   "cell_type": "code",
   "execution_count": null,
   "id": "e465c934",
   "metadata": {},
   "outputs": [],
   "source": [
    "# Find the type of Datatype for above"
   ]
  },
  {
   "cell_type": "code",
   "execution_count": 3,
   "id": "d58eba10",
   "metadata": {},
   "outputs": [
    {
     "data": {
      "text/plain": [
       "list"
      ]
     },
     "execution_count": 3,
     "metadata": {},
     "output_type": "execute_result"
    }
   ],
   "source": [
    "type(students)"
   ]
  },
  {
   "cell_type": "code",
   "execution_count": null,
   "id": "d4a11ce2",
   "metadata": {},
   "outputs": [],
   "source": [
    "# Req : I want to access wasim's name in the o/p"
   ]
  },
  {
   "cell_type": "code",
   "execution_count": 5,
   "id": "2f57740f",
   "metadata": {},
   "outputs": [
    {
     "name": "stdout",
     "output_type": "stream",
     "text": [
      "wasim\n"
     ]
    }
   ],
   "source": [
    "print(students[2])    "
   ]
  },
  {
   "cell_type": "code",
   "execution_count": 6,
   "id": "eb2764df",
   "metadata": {},
   "outputs": [
    {
     "name": "stdout",
     "output_type": "stream",
     "text": [
      "Wasim\n"
     ]
    }
   ],
   "source": [
    "print(students[2].title())    #name in a proper format"
   ]
  },
  {
   "cell_type": "code",
   "execution_count": null,
   "id": "557bdbee",
   "metadata": {},
   "outputs": [],
   "source": []
  },
  {
   "cell_type": "code",
   "execution_count": null,
   "id": "93a3fdd5",
   "metadata": {},
   "outputs": [],
   "source": [
    "# Req : I want to access sameer's name in the o/p"
   ]
  },
  {
   "cell_type": "code",
   "execution_count": 7,
   "id": "53bc71d2",
   "metadata": {},
   "outputs": [
    {
     "name": "stdout",
     "output_type": "stream",
     "text": [
      "Sameer\n"
     ]
    }
   ],
   "source": [
    "print(students[4].title())"
   ]
  },
  {
   "cell_type": "code",
   "execution_count": null,
   "id": "3307bdf3",
   "metadata": {},
   "outputs": [],
   "source": []
  },
  {
   "cell_type": "code",
   "execution_count": null,
   "id": "2194bb03",
   "metadata": {},
   "outputs": [],
   "source": [
    "** How to add new elements in the list **"
   ]
  },
  {
   "cell_type": "code",
   "execution_count": 9,
   "id": "91ef9598",
   "metadata": {},
   "outputs": [
    {
     "name": "stdout",
     "output_type": "stream",
     "text": [
      "['Ibrahim', 'saima', 'wasim', 'arshan', 'sameer', 'afroz']\n"
     ]
    }
   ],
   "source": [
    "print(students)"
   ]
  },
  {
   "cell_type": "code",
   "execution_count": null,
   "id": "ebeaad77",
   "metadata": {},
   "outputs": [],
   "source": [
    "# I want to add sami's name in the above list"
   ]
  },
  {
   "cell_type": "code",
   "execution_count": 12,
   "id": "83623e1c",
   "metadata": {},
   "outputs": [],
   "source": [
    "students.append('sami')"
   ]
  },
  {
   "cell_type": "code",
   "execution_count": 13,
   "id": "4e9f088d",
   "metadata": {},
   "outputs": [
    {
     "name": "stdout",
     "output_type": "stream",
     "text": [
      "['Ibrahim', 'saima', 'wasim', 'arshan', 'sameer', 'afroz', 'sami']\n"
     ]
    }
   ],
   "source": [
    "print(students)"
   ]
  },
  {
   "cell_type": "code",
   "execution_count": null,
   "id": "1b78899a",
   "metadata": {},
   "outputs": [],
   "source": [
    "# I want to add salman's name in the above list"
   ]
  },
  {
   "cell_type": "code",
   "execution_count": 17,
   "id": "61925b2e",
   "metadata": {},
   "outputs": [],
   "source": [
    "students.append('salman')"
   ]
  },
  {
   "cell_type": "code",
   "execution_count": 18,
   "id": "23cf8328",
   "metadata": {},
   "outputs": [
    {
     "name": "stdout",
     "output_type": "stream",
     "text": [
      "['Ibrahim', 'saima', 'wasim', 'arshan', 'sameer', 'afroz', 'sami', 'salman']\n"
     ]
    }
   ],
   "source": [
    "print(students)"
   ]
  },
  {
   "cell_type": "code",
   "execution_count": null,
   "id": "f9a13362",
   "metadata": {},
   "outputs": [],
   "source": []
  },
  {
   "cell_type": "code",
   "execution_count": null,
   "id": "5aa05dea",
   "metadata": {},
   "outputs": [],
   "source": [
    "** How to modify elements in the list **"
   ]
  },
  {
   "cell_type": "code",
   "execution_count": null,
   "id": "46cb8b6b",
   "metadata": {},
   "outputs": [],
   "source": [
    "# now I want to Sohail's name at 1st index"
   ]
  },
  {
   "cell_type": "code",
   "execution_count": 19,
   "id": "f3917efe",
   "metadata": {},
   "outputs": [],
   "source": [
    "students.insert(1,'sohail')"
   ]
  },
  {
   "cell_type": "code",
   "execution_count": 20,
   "id": "79ad272c",
   "metadata": {},
   "outputs": [
    {
     "name": "stdout",
     "output_type": "stream",
     "text": [
      "['Ibrahim', 'sohail', 'saima', 'wasim', 'arshan', 'sameer', 'afroz', 'sami', 'salman']\n"
     ]
    }
   ],
   "source": [
    "print(students)"
   ]
  },
  {
   "cell_type": "code",
   "execution_count": null,
   "id": "416679ca",
   "metadata": {},
   "outputs": [],
   "source": [
    "# I want modify afroz's name to hasan"
   ]
  },
  {
   "cell_type": "code",
   "execution_count": 27,
   "id": "71c1a394",
   "metadata": {},
   "outputs": [],
   "source": [
    "students[5] = 'hasan'"
   ]
  },
  {
   "cell_type": "code",
   "execution_count": 28,
   "id": "f5c5801c",
   "metadata": {},
   "outputs": [
    {
     "name": "stdout",
     "output_type": "stream",
     "text": [
      "['Ibrahim', 'sohail', 'wasim', 'arshan', 'sameer', 'hasan', 'hasan', 'salman']\n"
     ]
    }
   ],
   "source": [
    "print(students)"
   ]
  },
  {
   "cell_type": "code",
   "execution_count": 29,
   "id": "309c3c41",
   "metadata": {},
   "outputs": [],
   "source": [
    "del students[6]"
   ]
  },
  {
   "cell_type": "code",
   "execution_count": 30,
   "id": "711f93b8",
   "metadata": {},
   "outputs": [
    {
     "name": "stdout",
     "output_type": "stream",
     "text": [
      "['Ibrahim', 'sohail', 'wasim', 'arshan', 'sameer', 'hasan', 'salman']\n"
     ]
    }
   ],
   "source": [
    "print(students)"
   ]
  },
  {
   "cell_type": "code",
   "execution_count": null,
   "id": "8b3a5c71",
   "metadata": {},
   "outputs": [],
   "source": []
  },
  {
   "cell_type": "code",
   "execution_count": null,
   "id": "a11c1adb",
   "metadata": {},
   "outputs": [],
   "source": []
  },
  {
   "cell_type": "code",
   "execution_count": null,
   "id": "0b6e37dc",
   "metadata": {},
   "outputs": [],
   "source": []
  },
  {
   "cell_type": "code",
   "execution_count": null,
   "id": "113068c4",
   "metadata": {},
   "outputs": [],
   "source": []
  },
  {
   "cell_type": "code",
   "execution_count": null,
   "id": "7ad71659",
   "metadata": {},
   "outputs": [],
   "source": [
    " ** How to Delete the elements in the list **"
   ]
  },
  {
   "cell_type": "code",
   "execution_count": 22,
   "id": "8d07480d",
   "metadata": {},
   "outputs": [],
   "source": [
    "# I want to delete saima's name from the above list"
   ]
  },
  {
   "cell_type": "code",
   "execution_count": 23,
   "id": "c2e41298",
   "metadata": {},
   "outputs": [],
   "source": [
    "del students[2]"
   ]
  },
  {
   "cell_type": "code",
   "execution_count": 24,
   "id": "6473085e",
   "metadata": {},
   "outputs": [
    {
     "name": "stdout",
     "output_type": "stream",
     "text": [
      "['Ibrahim', 'sohail', 'wasim', 'arshan', 'sameer', 'afroz', 'sami', 'salman']\n"
     ]
    }
   ],
   "source": [
    "print(students)"
   ]
  },
  {
   "cell_type": "code",
   "execution_count": 31,
   "id": "e6fac920",
   "metadata": {},
   "outputs": [
    {
     "name": "stdout",
     "output_type": "stream",
     "text": [
      "['Ibrahim', 'sohail', 'wasim', 'arshan', 'sameer', 'hasan', 'salman']\n"
     ]
    }
   ],
   "source": [
    "print(students)"
   ]
  },
  {
   "cell_type": "code",
   "execution_count": 32,
   "id": "4ed6a290",
   "metadata": {},
   "outputs": [
    {
     "name": "stdout",
     "output_type": "stream",
     "text": [
      "The Zen of Python, by Tim Peters\n",
      "\n",
      "Beautiful is better than ugly.\n",
      "Explicit is better than implicit.\n",
      "Simple is better than complex.\n",
      "Complex is better than complicated.\n",
      "Flat is better than nested.\n",
      "Sparse is better than dense.\n",
      "Readability counts.\n",
      "Special cases aren't special enough to break the rules.\n",
      "Although practicality beats purity.\n",
      "Errors should never pass silently.\n",
      "Unless explicitly silenced.\n",
      "In the face of ambiguity, refuse the temptation to guess.\n",
      "There should be one-- and preferably only one --obvious way to do it.\n",
      "Although that way may not be obvious at first unless you're Dutch.\n",
      "Now is better than never.\n",
      "Although never is often better than *right* now.\n",
      "If the implementation is hard to explain, it's a bad idea.\n",
      "If the implementation is easy to explain, it may be a good idea.\n",
      "Namespaces are one honking great idea -- let's do more of those!\n"
     ]
    }
   ],
   "source": [
    "import this     # Zen of Python"
   ]
  },
  {
   "cell_type": "code",
   "execution_count": null,
   "id": "4837e1c8",
   "metadata": {},
   "outputs": [],
   "source": []
  }
 ],
 "metadata": {
  "kernelspec": {
   "display_name": "Python 3 (ipykernel)",
   "language": "python",
   "name": "python3"
  },
  "language_info": {
   "codemirror_mode": {
    "name": "ipython",
    "version": 3
   },
   "file_extension": ".py",
   "mimetype": "text/x-python",
   "name": "python",
   "nbconvert_exporter": "python",
   "pygments_lexer": "ipython3",
   "version": "3.9.12"
  }
 },
 "nbformat": 4,
 "nbformat_minor": 5
}
