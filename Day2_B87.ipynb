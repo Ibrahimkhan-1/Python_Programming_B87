{
 "cells": [
  {
   "cell_type": "code",
   "execution_count": 11,
   "id": "adc0229b",
   "metadata": {},
   "outputs": [
    {
     "name": "stdout",
     "output_type": "stream",
     "text": [
      "ibrahimkhan\n"
     ]
    }
   ],
   "source": [
    "name = \"ibrahimkhan\"   # i want to print the string\n",
    "print(name)"
   ]
  },
  {
   "cell_type": "code",
   "execution_count": 12,
   "id": "8f1f934b",
   "metadata": {
    "scrolled": true
   },
   "outputs": [
    {
     "data": {
      "text/plain": [
       "str"
      ]
     },
     "execution_count": 12,
     "metadata": {},
     "output_type": "execute_result"
    }
   ],
   "source": [
    "type(name)    # I want to verify the type of a Datatype"
   ]
  },
  {
   "cell_type": "code",
   "execution_count": 13,
   "id": "f823feb7",
   "metadata": {},
   "outputs": [
    {
     "name": "stdout",
     "output_type": "stream",
     "text": [
      "Ibrahimkhan\n"
     ]
    }
   ],
   "source": [
    "print(name.title())     # I want to write first letter Capital"
   ]
  },
  {
   "cell_type": "code",
   "execution_count": 14,
   "id": "2ddd10dd",
   "metadata": {},
   "outputs": [
    {
     "name": "stdout",
     "output_type": "stream",
     "text": [
      "IBRAHIMKHAN\n"
     ]
    }
   ],
   "source": [
    "print(name.upper())   # I want to write the entire name in the capital letters"
   ]
  },
  {
   "cell_type": "code",
   "execution_count": 15,
   "id": "64555005",
   "metadata": {},
   "outputs": [
    {
     "name": "stdout",
     "output_type": "stream",
     "text": [
      "ibrahimkhan\n"
     ]
    }
   ],
   "source": [
    "print(name.lower())    # I want to write the entire name in small letters"
   ]
  },
  {
   "cell_type": "code",
   "execution_count": null,
   "id": "6dca4287",
   "metadata": {},
   "outputs": [],
   "source": []
  }
 ],
 "metadata": {
  "kernelspec": {
   "display_name": "Python 3 (ipykernel)",
   "language": "python",
   "name": "python3"
  },
  "language_info": {
   "codemirror_mode": {
    "name": "ipython",
    "version": 3
   },
   "file_extension": ".py",
   "mimetype": "text/x-python",
   "name": "python",
   "nbconvert_exporter": "python",
   "pygments_lexer": "ipython3",
   "version": "3.9.12"
  }
 },
 "nbformat": 4,
 "nbformat_minor": 5
}
